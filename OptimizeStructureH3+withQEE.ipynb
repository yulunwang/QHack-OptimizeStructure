{
 "cells": [
  {
   "cell_type": "code",
   "execution_count": 74,
   "metadata": {},
   "outputs": [],
   "source": [
    "from pennylane import qchem\n",
    "import pennylane as qml\n",
    "\n",
    "from pennylane import numpy as np\n",
    "from openfermion import MolecularData\n",
    "from openfermion.transforms import get_fermion_operator\n",
    "from openfermion.ops import QubitOperator\n",
    "\n",
    "\n",
    "from groupedFermionicOperator import groupedFermionicOperator\n",
    "from qiskit.chemistry.drivers import PySCFDriver, UnitsType\n",
    "from qiskit.aqua.operators import WeightedPauliOperator\n",
    "from qiskit.chemistry import FermionicOperator"
   ]
  },
  {
   "cell_type": "code",
   "execution_count": 75,
   "metadata": {},
   "outputs": [],
   "source": [
    "def qiskit_to_pennylane_converter(qwpo):\n",
    "    p_list = qwpo.paulis\n",
    "    coeff_list = []\n",
    "    obslist = []\n",
    "    for i in range(len(p_list)):\n",
    "        coeff_list.append(p_list[i][0])\n",
    "        s = p_list[i][1].to_label()\n",
    "        j = 0\n",
    "        for w in s: \n",
    "            if (w == \"X\"):\n",
    "                qobs1 = qml.PauliX(j)\n",
    "            if (w == \"Y\"):\n",
    "                qobs1 = qml.PauliY(j)\n",
    "            if (w == \"Z\"):\n",
    "                qobs1 = qml.PauliZ(j)\n",
    "            if (w == \"I\"):\n",
    "                qobs1 = qml.Identity(j)\n",
    "            if (j > 0):\n",
    "                qobs = qobs @ qobs1\n",
    "            else:\n",
    "                qobs = qobs1\n",
    "            j += 1\n",
    "        obslist.append(qobs)\n",
    "    return qml.Hamiltonian(coeff_list, obslist)"
   ]
  },
  {
   "cell_type": "code",
   "execution_count": 76,
   "metadata": {},
   "outputs": [],
   "source": [
    "symbols = [\"H\", \"H\", \"H\"]\n",
    "x = np.array([0.028, 0.054, 0.0, 0.886, 1.610, 0.0, 1.855, 0.002, 0.0], requires_grad=True)\n",
    "\n",
    "def Ha(x):\n",
    "    #cord = np.array([0.0, 0.0, 0.0,x[0],0, 0.0, x[1],x[2], 0], dtype=np.float64) # in Bohr\n",
    "    cord = x\n",
    "    driver = PySCFDriver(atom=f\"H {cord[0]} {cord[1]} {cord[2]}; H {cord[3]} {cord[4]} {cord[5]}; H {cord[6]} {cord[7]} {cord[8]}\", unit=UnitsType.BOHR, \n",
    "                         charge=1, spin=0, basis='sto-3g')\n",
    "    \n",
    "    molecule = driver.run()\n",
    "    shift = molecule.nuclear_repulsion_energy\n",
    "    num_electrons = molecule.num_alpha+molecule.num_beta\n",
    "    ferOp = FermionicOperator(h1=molecule.one_body_integrals, h2=molecule.two_body_integrals)\n",
    "    g = groupedFermionicOperator(ferOp, num_electrons,mode=\"rhf\")\n",
    "    qubitOp = g.to_paulis()\n",
    "    ddd = {'paulis': [{\"coeff\": {\"imag\": 0.00, \"real\": shift }, \"label\": \"IIII\" }]}\n",
    "    b = WeightedPauliOperator.from_dict(ddd)\n",
    "    qubitOp.add(b)\n",
    "    H = qiskit_to_pennylane_converter(qubitOp)\n",
    "    return H"
   ]
  },
  {
   "cell_type": "code",
   "execution_count": 77,
   "metadata": {},
   "outputs": [],
   "source": [
    "num_wires = len(Ha(x).wires)\n",
    "dev = qml.device(\"default.qubit\", wires=num_wires)\n",
    "\n",
    "\n",
    "def layer(W):\n",
    "    for i in range(num_wires):\n",
    "    #    qml.Rot(W[i, 0], W[i, 1], W[i, 2], wires=i)\n",
    "        qml.RY(W[i,0],wires=i)\n",
    "    qml.broadcast(qml.CNOT, wires=range(num_wires), pattern=\"chain\")\n",
    "\n",
    "@qml.qnode(dev)\n",
    "def circuit(params, obs):\n",
    "    for W in params:\n",
    "        layer(W)\n",
    "    return qml.expval(obs)\n",
    "\n",
    "def cost(params, x):\n",
    "    hamiltonian = Ha(x)\n",
    "    return circuit(params, obs=hamiltonian)#+shift\n",
    "\n",
    "def grad_x(params, x):\n",
    "    grad_h = qml.finite_diff(Ha)(x)\n",
    "    grad = [circuit(params, obs=obs) for obs in grad_h]\n",
    "    return np.array(grad)\n",
    "\n",
    "opt_theta = qml.GradientDescentOptimizer(stepsize=0.4)\n",
    "opt_x = qml.GradientDescentOptimizer(stepsize=0.8)"
   ]
  },
  {
   "cell_type": "code",
   "execution_count": 78,
   "metadata": {},
   "outputs": [],
   "source": [
    "num_layers = 2\n",
    "params = 0.1*np.random.randn(num_layers, num_wires, 1, requires_grad=True)"
   ]
  },
  {
   "cell_type": "code",
   "execution_count": 79,
   "metadata": {},
   "outputs": [
    {
     "name": "stdout",
     "output_type": "stream",
     "text": [
      "Step = 0,  E = -1.25137650 Ha,  bond length = 0.94663 A\n",
      "Step = 2,  E = -1.26845003 Ha,  bond length = 0.95760 A\n",
      "Step = 4,  E = -1.27268342 Ha,  bond length = 0.96672 A\n",
      "Step = 6,  E = -1.27385865 Ha,  bond length = 0.97337 A\n",
      "Step = 8,  E = -1.27422274 Ha,  bond length = 0.97783 A\n",
      "Step = 10,  E = -1.27434742 Ha,  bond length = 0.98070 A\n",
      "Step = 12,  E = -1.27439458 Ha,  bond length = 0.98250 A\n",
      "Step = 14,  E = -1.27441432 Ha,  bond length = 0.98362 A\n",
      "Step = 16,  E = -1.27442340 Ha,  bond length = 0.98431 A\n",
      "Step = 18,  E = -1.27442796 Ha,  bond length = 0.98476 A\n",
      "Step = 20,  E = -1.27443041 Ha,  bond length = 0.98505 A\n",
      "Step = 22,  E = -1.27443180 Ha,  bond length = 0.98523 A\n",
      "Step = 24,  E = -1.27443264 Ha,  bond length = 0.98536 A\n",
      "Step = 26,  E = -1.27443317 Ha,  bond length = 0.98545 A\n",
      "Step = 28,  E = -1.27443353 Ha,  bond length = 0.98550 A\n",
      "Step = 30,  E = -1.27443379 Ha,  bond length = 0.98555 A\n",
      "Step = 32,  E = -1.27443399 Ha,  bond length = 0.98558 A\n",
      "Step = 34,  E = -1.27443416 Ha,  bond length = 0.98560 A\n",
      "******END*****\n"
     ]
    }
   ],
   "source": [
    "from functools import partial\n",
    "\n",
    "# store the values of the cost function\n",
    "energy = []\n",
    "\n",
    "# store the values of the bond length\n",
    "bond_length = []\n",
    "\n",
    "# Factor to convert from Bohrs to Angstroms\n",
    "bohr_angs = 0.529177210903\n",
    "\n",
    "for n in range(100):\n",
    "\n",
    "    # Optimize the circuit parameters\n",
    "    params.requires_grad = True\n",
    "    x.requires_grad = False\n",
    "    params, _ = opt_theta.step(cost, params, x)\n",
    "\n",
    "    # Optimize the nuclear coordinates\n",
    "    x.requires_grad = True\n",
    "    \n",
    "    params.requires_grad = False\n",
    "\n",
    "    _, x = opt_x.step(cost, params, x, grad_fn=grad_x)\n",
    "\n",
    "    energy.append(cost(params, x))\n",
    "    bond_length.append(np.linalg.norm(x[0:3] - x[3:6]) * bohr_angs)\n",
    "\n",
    "    if n % 2 == 0:\n",
    "        print(f\"Step = {n},  E = {energy[-1]:.8f} Ha,  bond length = {bond_length[-1]:.5f} A\")\n",
    "        #print (f\"Step = {n},  E = {energy[-1]:.8f} Ha\")\n",
    "        #print(f\"x: {x}\")\n",
    "        #print(f\"para: {params}\")\n",
    "    # Check maximum component of the nuclear gradient\n",
    "    if np.max(grad_x(params, x)) <= 1e-05:\n",
    "        print(\"******END*****\")\n",
    "        break"
   ]
  },
  {
   "cell_type": "code",
   "execution_count": 80,
   "metadata": {},
   "outputs": [
    {
     "name": "stdout",
     "output_type": "stream",
     "text": [
      "\n",
      "Final value of the ground-state energy = -1.27443416 Ha\n",
      "\n",
      "Ground-state equilibrium geometry\n",
      "symbol    x        y        z\n",
      "  H    -0.0064   0.0147   0.0000\n",
      "  H    0.9194   1.6308   0.0000\n",
      "  H    1.8562   0.0208   0.0000\n"
     ]
    }
   ],
   "source": [
    "print(\"\\n\" f\"Final value of the ground-state energy = {energy[-1]:.8f} Ha\")\n",
    "print(\"\\n\" \"Ground-state equilibrium geometry\")\n",
    "print(\"%s %4s %8s %8s\" % (\"symbol\", \"x\", \"y\", \"z\"))\n",
    "for i, atom in enumerate(symbols):\n",
    "    print(f\"  {atom}    {x[3 * i]:.4f}   {x[3 * i + 1]:.4f}   {x[3 * i + 2]:.4f}\")"
   ]
  },
  {
   "cell_type": "code",
   "execution_count": 81,
   "metadata": {},
   "outputs": [
    {
     "data": {
      "image/png": "[encoded data removed]",
      "text/plain": [
       "<Figure size 864x360 with 2 Axes>"
      ]
     },
     "metadata": {
      "needs_background": "light"
     },
     "output_type": "display_data"
    }
   ],
   "source": [
    "import matplotlib.pyplot as plt\n",
    "\n",
    "fig = plt.figure()\n",
    "fig.set_figheight(5)\n",
    "fig.set_figwidth(12)\n",
    "\n",
    "# Add energy plot on column 1\n",
    "E_fci = -1.27443765658\n",
    "E_vqe = np.array(energy)\n",
    "ax1 = fig.add_subplot(121)\n",
    "ax1.plot(range(n+1), E_vqe-E_fci, 'go-', ls='dashed')\n",
    "ax1.plot(range(n+1), np.full(n+1, 0.001), color='red')\n",
    "ax1.set_xlabel(\"Optimization step\", fontsize=13)\n",
    "ax1.set_ylabel(\"$E_{VQE} - E_{FCI}$ (Hartree)\", fontsize=13)\n",
    "ax1.text(5, 0.0013, r'Chemical accuracy', fontsize=13)\n",
    "plt.yscale(\"log\")\n",
    "plt.xticks(fontsize=12)\n",
    "plt.yticks(fontsize=12)\n",
    "\n",
    "# Add bond length plot on column 2\n",
    "d_fci = 0.986\n",
    "ax2 = fig.add_subplot(122)\n",
    "ax2.plot(range(n+1), bond_length, 'go-', ls='dashed')\n",
    "ax2.plot(range(n+1), np.full(n+1, d_fci), color='red')\n",
    "ax2.set_ylim([0.965,0.99])\n",
    "ax2.set_xlabel(\"Optimization step\", fontsize=13)\n",
    "ax2.set_ylabel(\"bond length ($\\AA$)\", fontsize=13)\n",
    "ax2.text(5, 0.9865, r'Equilibrium bond length', fontsize=13)\n",
    "plt.xticks(fontsize=12)\n",
    "plt.yticks(fontsize=12)\n",
    "\n",
    "plt.subplots_adjust(wspace=0.3)\n",
    "plt.show()\n"
   ]
  },
  {
   "cell_type": "code",
   "execution_count": null,
   "metadata": {},
   "outputs": [],
   "source": []
  }
 ],
 "metadata": {
  "kernelspec": {
   "display_name": "Python 3",
   "language": "python",
   "name": "python3"
  },
  "language_info": {
   "codemirror_mode": {
    "name": "ipython",
    "version": 3
   },
   "file_extension": ".py",
   "mimetype": "text/x-python",
   "name": "python",
   "nbconvert_exporter": "python",
   "pygments_lexer": "ipython3",
   "version": "3.8.5"
  }
 },
 "nbformat": 4,
 "nbformat_minor": 2
}
