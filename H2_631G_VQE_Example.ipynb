{
 "cells": [
  {
   "cell_type": "code",
   "execution_count": 16,
   "metadata": {},
   "outputs": [],
   "source": [
    "%matplotlib inline\n",
    "%config InlineBackend.figure_format = 'svg'\n",
    "import pylab\n",
    "import numpy as np\n",
    "from qiskit import Aer\n",
    "from qiskit.circuit.library import RealAmplitudes\n",
    "from qiskit.aqua import QuantumInstance\n",
    "from qiskit.aqua.components.optimizers import COBYLA\n",
    "from qiskit.aqua.algorithms import VQE, NumPyEigensolver\n",
    "from qiskit.chemistry.drivers import PySCFDriver, UnitsType, HFMethodType\n",
    "from qiskit.chemistry import FermionicOperator\n",
    "from groupedFermionicOperator import groupedFermionicOperator\n",
    "from qiskit.aqua.operators import WeightedPauliOperator\n"
   ]
  },
  {
   "cell_type": "code",
   "execution_count": 2,
   "metadata": {},
   "outputs": [],
   "source": [
    "from qiskit.chemistry.drivers import PySCFDriver, UnitsType\n",
    "dist =1.4\n",
    "driver = PySCFDriver(atom=\"H .0 .0 .0; H .0 .0 \" + str(dist), unit=UnitsType.BOHR, \n",
    "                         charge=0, spin=0, basis='sto-3g')\n",
    "molecule = driver.run()\n",
    "num_electrons = molecule.num_alpha + molecule.num_beta"
   ]
  },
  {
   "cell_type": "code",
   "execution_count": 3,
   "metadata": {},
   "outputs": [
    {
     "data": {
      "text/plain": [
       "array([[-1.25279706,  0.        ,  0.        ,  0.        ],\n",
       "       [ 0.        , -0.4756023 ,  0.        ,  0.        ],\n",
       "       [ 0.        ,  0.        , -1.25279706,  0.        ],\n",
       "       [ 0.        ,  0.        ,  0.        , -0.4756023 ]])"
      ]
     },
     "execution_count": 3,
     "metadata": {},
     "output_type": "execute_result"
    }
   ],
   "source": [
    "ferOp = FermionicOperator(h1=molecule.one_body_integrals, h2=molecule.two_body_integrals)\n",
    "ferOp.h1"
   ]
  },
  {
   "cell_type": "code",
   "execution_count": 4,
   "metadata": {},
   "outputs": [
    {
     "data": {
      "text/plain": [
       "array([[[[-0.33729704,  0.        ,  0.        ,  0.        ],\n",
       "         [ 0.        , -0.09062896,  0.        ,  0.        ],\n",
       "         [ 0.        ,  0.        ,  0.        ,  0.        ],\n",
       "         [ 0.        ,  0.        ,  0.        ,  0.        ]],\n",
       "\n",
       "        [[ 0.        , -0.09062896,  0.        ,  0.        ],\n",
       "         [-0.331782  ,  0.        ,  0.        ,  0.        ],\n",
       "         [ 0.        ,  0.        ,  0.        ,  0.        ],\n",
       "         [ 0.        ,  0.        ,  0.        ,  0.        ]],\n",
       "\n",
       "        [[ 0.        ,  0.        ,  0.        ,  0.        ],\n",
       "         [ 0.        ,  0.        ,  0.        ,  0.        ],\n",
       "         [-0.33729704,  0.        ,  0.        ,  0.        ],\n",
       "         [ 0.        , -0.09062896,  0.        ,  0.        ]],\n",
       "\n",
       "        [[ 0.        ,  0.        ,  0.        ,  0.        ],\n",
       "         [ 0.        ,  0.        ,  0.        ,  0.        ],\n",
       "         [ 0.        , -0.09062896,  0.        ,  0.        ],\n",
       "         [-0.331782  ,  0.        ,  0.        ,  0.        ]]],\n",
       "\n",
       "\n",
       "       [[[ 0.        , -0.331782  ,  0.        ,  0.        ],\n",
       "         [-0.09062896,  0.        ,  0.        ,  0.        ],\n",
       "         [ 0.        ,  0.        ,  0.        ,  0.        ],\n",
       "         [ 0.        ,  0.        ,  0.        ,  0.        ]],\n",
       "\n",
       "        [[-0.09062896,  0.        ,  0.        ,  0.        ],\n",
       "         [ 0.        , -0.34874767,  0.        ,  0.        ],\n",
       "         [ 0.        ,  0.        ,  0.        ,  0.        ],\n",
       "         [ 0.        ,  0.        ,  0.        ,  0.        ]],\n",
       "\n",
       "        [[ 0.        ,  0.        ,  0.        ,  0.        ],\n",
       "         [ 0.        ,  0.        ,  0.        ,  0.        ],\n",
       "         [ 0.        , -0.331782  ,  0.        ,  0.        ],\n",
       "         [-0.09062896,  0.        ,  0.        ,  0.        ]],\n",
       "\n",
       "        [[ 0.        ,  0.        ,  0.        ,  0.        ],\n",
       "         [ 0.        ,  0.        ,  0.        ,  0.        ],\n",
       "         [-0.09062896,  0.        ,  0.        ,  0.        ],\n",
       "         [ 0.        , -0.34874767,  0.        ,  0.        ]]],\n",
       "\n",
       "\n",
       "       [[[ 0.        ,  0.        , -0.33729704,  0.        ],\n",
       "         [ 0.        ,  0.        ,  0.        , -0.09062896],\n",
       "         [ 0.        ,  0.        ,  0.        ,  0.        ],\n",
       "         [ 0.        ,  0.        ,  0.        ,  0.        ]],\n",
       "\n",
       "        [[ 0.        ,  0.        ,  0.        , -0.09062896],\n",
       "         [ 0.        ,  0.        , -0.331782  ,  0.        ],\n",
       "         [ 0.        ,  0.        ,  0.        ,  0.        ],\n",
       "         [ 0.        ,  0.        ,  0.        ,  0.        ]],\n",
       "\n",
       "        [[ 0.        ,  0.        ,  0.        ,  0.        ],\n",
       "         [ 0.        ,  0.        ,  0.        ,  0.        ],\n",
       "         [ 0.        ,  0.        , -0.33729704,  0.        ],\n",
       "         [ 0.        ,  0.        ,  0.        , -0.09062896]],\n",
       "\n",
       "        [[ 0.        ,  0.        ,  0.        ,  0.        ],\n",
       "         [ 0.        ,  0.        ,  0.        ,  0.        ],\n",
       "         [ 0.        ,  0.        ,  0.        , -0.09062896],\n",
       "         [ 0.        ,  0.        , -0.331782  ,  0.        ]]],\n",
       "\n",
       "\n",
       "       [[[ 0.        ,  0.        ,  0.        , -0.331782  ],\n",
       "         [ 0.        ,  0.        , -0.09062896,  0.        ],\n",
       "         [ 0.        ,  0.        ,  0.        ,  0.        ],\n",
       "         [ 0.        ,  0.        ,  0.        ,  0.        ]],\n",
       "\n",
       "        [[ 0.        ,  0.        , -0.09062896,  0.        ],\n",
       "         [ 0.        ,  0.        ,  0.        , -0.34874767],\n",
       "         [ 0.        ,  0.        ,  0.        ,  0.        ],\n",
       "         [ 0.        ,  0.        ,  0.        ,  0.        ]],\n",
       "\n",
       "        [[ 0.        ,  0.        ,  0.        ,  0.        ],\n",
       "         [ 0.        ,  0.        ,  0.        ,  0.        ],\n",
       "         [ 0.        ,  0.        ,  0.        , -0.331782  ],\n",
       "         [ 0.        ,  0.        , -0.09062896,  0.        ]],\n",
       "\n",
       "        [[ 0.        ,  0.        ,  0.        ,  0.        ],\n",
       "         [ 0.        ,  0.        ,  0.        ,  0.        ],\n",
       "         [ 0.        ,  0.        , -0.09062896,  0.        ],\n",
       "         [ 0.        ,  0.        ,  0.        , -0.34874767]]]])"
      ]
     },
     "execution_count": 4,
     "metadata": {},
     "output_type": "execute_result"
    }
   ],
   "source": [
    "ferOp.h2"
   ]
  },
  {
   "cell_type": "code",
   "execution_count": null,
   "metadata": {},
   "outputs": [],
   "source": []
  },
  {
   "cell_type": "code",
   "execution_count": 5,
   "metadata": {},
   "outputs": [
    {
     "data": {
      "text/plain": [
       "4"
      ]
     },
     "execution_count": 5,
     "metadata": {},
     "output_type": "execute_result"
    }
   ],
   "source": [
    "molecule.num_orbitals*2"
   ]
  },
  {
   "cell_type": "code",
   "execution_count": 6,
   "metadata": {},
   "outputs": [
    {
     "name": "stdout",
     "output_type": "stream",
     "text": [
      "group.op\n",
      "{(0, 0): -1.6807230613940565, (1, 1): -0.9149789301108968, (2, 2): -1.6807230613940565, (3, 3): -0.9149789301108968, ((0, 0), (0, 0)): 0.33729704216168466, ((0, 1), (1, 0)): 0.09062895739655422, ((0, 1), (0, 1)): 0.09062895739655424, ((0, 0), (1, 1)): 0.33178199561027416, ((0, 0), (2, 2)): 0.33729704216168466, ((0, 1), (3, 2)): 0.09062895739655422, ((0, 1), (2, 3)): 0.09062895739655424, ((0, 0), (3, 3)): 0.33178199561027416, ((1, 1), (0, 0)): 0.3317819956102742, ((1, 0), (1, 0)): 0.0906289573965542, ((1, 0), (0, 1)): 0.09062895739655424, ((1, 1), (1, 1)): 0.348747673340091, ((1, 1), (2, 2)): 0.3317819956102742, ((1, 0), (3, 2)): 0.0906289573965542, ((1, 0), (2, 3)): 0.09062895739655424, ((1, 1), (3, 3)): 0.348747673340091, ((2, 2), (0, 0)): 0.33729704216168466, ((2, 3), (1, 0)): 0.09062895739655422, ((2, 3), (0, 1)): 0.09062895739655424, ((2, 2), (1, 1)): 0.33178199561027416, ((2, 2), (2, 2)): 0.33729704216168466, ((2, 3), (3, 2)): 0.09062895739655422, ((2, 3), (2, 3)): 0.09062895739655424, ((2, 2), (3, 3)): 0.33178199561027416, ((3, 3), (0, 0)): 0.3317819956102742, ((3, 2), (1, 0)): 0.0906289573965542, ((3, 2), (0, 1)): 0.09062895739655424, ((3, 3), (1, 1)): 0.348747673340091, ((3, 3), (2, 2)): 0.3317819956102742, ((3, 2), (3, 2)): 0.0906289573965542, ((3, 2), (2, 3)): 0.09062895739655424, ((3, 3), (3, 3)): 0.348747673340091}\n",
      "36\n",
      "0.33729704216168466\n",
      "((0, 0), (0, 0)) [[(0.375+0j), Pauli('III')], [(-0.125+0j), Pauli('IIZ')], [(0.125+0j), Pauli('IZI')], [(0.125+0j), Pauli('IZZ')], [(0.375+0j), Pauli('ZII')], [(-0.125+0j), Pauli('ZIZ')], [(0.125+0j), Pauli('ZZI')], [(0.125+0j), Pauli('ZZZ')]]\n",
      "\n",
      "0.09062895739655422\n",
      "((0, 1), (1, 0)) [[(0.25+0j), Pauli('III')], [(-0.25+0j), Pauli('IIZ')], [0j, Pauli('IZI')], [0j, Pauli('IZZ')], [(0.25+0j), Pauli('ZII')], [(-0.25+0j), Pauli('ZIZ')], [0j, Pauli('ZZI')], [0j, Pauli('ZZZ')], [0j, Pauli('XII')], [0j, Pauli('XIZ')], [0j, Pauli('XZI')], [0j, Pauli('XZZ')], [0j, Pauli('YII')], [0j, Pauli('YIZ')], [0j, Pauli('YZI')], [0j, Pauli('YZZ')]]\n",
      "\n",
      "0.09062895739655424\n",
      "((0, 1), (0, 1)) [[0j, Pauli('III')], [0j, Pauli('IIZ')], [0j, Pauli('IZI')], [0j, Pauli('IZZ')], [0j, Pauli('ZII')], [0j, Pauli('ZIZ')], [0j, Pauli('ZZI')], [0j, Pauli('ZZZ')], [0j, Pauli('XII')], [0j, Pauli('XIZ')], [0j, Pauli('XZI')], [0j, Pauli('XZZ')], [0j, Pauli('YII')], [0j, Pauli('YIZ')], [0j, Pauli('YZI')], [0j, Pauli('YZZ')]]\n",
      "\n",
      "0.33178199561027416\n",
      "((0, 0), (1, 1)) [[(0.125+0j), Pauli('III')], [(0.125+0j), Pauli('IIZ')], [(0.125+0j), Pauli('IZI')], [(0.125+0j), Pauli('IZZ')], [(0.125+0j), Pauli('ZII')], [(0.125+0j), Pauli('ZIZ')], [(0.125+0j), Pauli('ZZI')], [(0.125+0j), Pauli('ZZZ')]]\n",
      "\n",
      "0.33729704216168466\n",
      "((0, 0), (2, 2)) [[(0.125+0j), Pauli('III')], [(-0.125+0j), Pauli('IIZ')], [(0.125+0j), Pauli('IZI')], [(-0.125+0j), Pauli('IZZ')], [(0.125+0j), Pauli('ZII')], [(-0.125+0j), Pauli('ZIZ')], [(0.125+0j), Pauli('ZZI')], [(-0.125+0j), Pauli('ZZZ')]]\n",
      "\n",
      "0.09062895739655422\n",
      "((0, 1), (3, 2)) [[(0.125+0j), Pauli('IIX')], [-0.125j, Pauli('IIY')], [(-0.125+0j), Pauli('IZX')], [0.125j, Pauli('IZY')], [(0.125+0j), Pauli('ZIX')], [-0.125j, Pauli('ZIY')], [(-0.125+0j), Pauli('ZZX')], [0.125j, Pauli('ZZY')], [0j, Pauli('XIX')], [0j, Pauli('XIY')], [0j, Pauli('XZX')], [0j, Pauli('XZY')], [0j, Pauli('YIX')], [0j, Pauli('YIY')], [0j, Pauli('YZX')], [0j, Pauli('YZY')]]\n",
      "\n",
      "0.09062895739655424\n",
      "((0, 1), (2, 3)) [[0j, Pauli('IIX')], [0j, Pauli('IIY')], [0j, Pauli('IZX')], [0j, Pauli('IZY')], [0j, Pauli('ZIX')], [0j, Pauli('ZIY')], [0j, Pauli('ZZX')], [0j, Pauli('ZZY')], [(0.125+0j), Pauli('XIX')], [-0.125j, Pauli('XIY')], [(0.125+0j), Pauli('XZX')], [-0.125j, Pauli('XZY')], [0.125j, Pauli('YIX')], [(0.125+0j), Pauli('YIY')], [0.125j, Pauli('YZX')], [(0.125+0j), Pauli('YZY')]]\n",
      "\n",
      "0.33178199561027416\n",
      "((0, 0), (3, 3)) [[(0.125+0j), Pauli('III')], [(-0.125+0j), Pauli('IIZ')], [(-0.125+0j), Pauli('IZI')], [(0.125+0j), Pauli('IZZ')], [(0.125+0j), Pauli('ZII')], [(-0.125+0j), Pauli('ZIZ')], [(-0.125+0j), Pauli('ZZI')], [(0.125+0j), Pauli('ZZZ')]]\n",
      "\n",
      "0.3317819956102742\n",
      "((1, 1), (0, 0)) [[(0.125+0j), Pauli('III')], [(0.125+0j), Pauli('IIZ')], [(0.125+0j), Pauli('IZI')], [(0.125+0j), Pauli('IZZ')], [(0.125+0j), Pauli('ZII')], [(0.125+0j), Pauli('ZIZ')], [(0.125+0j), Pauli('ZZI')], [(0.125+0j), Pauli('ZZZ')]]\n",
      "\n",
      "0.0906289573965542\n",
      "((1, 0), (1, 0)) [[0j, Pauli('III')], [0j, Pauli('IIZ')], [0j, Pauli('IZI')], [0j, Pauli('IZZ')], [0j, Pauli('ZII')], [0j, Pauli('ZIZ')], [0j, Pauli('ZZI')], [0j, Pauli('ZZZ')], [0j, Pauli('XII')], [0j, Pauli('XIZ')], [0j, Pauli('XZI')], [0j, Pauli('XZZ')], [0j, Pauli('YII')], [0j, Pauli('YIZ')], [0j, Pauli('YZI')], [0j, Pauli('YZZ')]]\n",
      "\n",
      "0.09062895739655424\n",
      "((1, 0), (0, 1)) [[(0.25+0j), Pauli('III')], [(0.25+0j), Pauli('IIZ')], [0j, Pauli('IZI')], [0j, Pauli('IZZ')], [0j, Pauli('ZII')], [0j, Pauli('ZIZ')], [(-0.25+0j), Pauli('ZZI')], [(-0.25+0j), Pauli('ZZZ')], [0j, Pauli('XII')], [0j, Pauli('XIZ')], [0j, Pauli('XZI')], [0j, Pauli('XZZ')], [0j, Pauli('YII')], [0j, Pauli('YIZ')], [0j, Pauli('YZI')], [0j, Pauli('YZZ')]]\n",
      "\n",
      "0.348747673340091\n",
      "((1, 1), (1, 1)) [[(0.375+0j), Pauli('III')], [(0.375+0j), Pauli('IIZ')], [(0.125+0j), Pauli('IZI')], [(0.125+0j), Pauli('IZZ')], [(0.125+0j), Pauli('ZII')], [(0.125+0j), Pauli('ZIZ')], [(-0.125+0j), Pauli('ZZI')], [(-0.125+0j), Pauli('ZZZ')]]\n",
      "\n",
      "0.3317819956102742\n",
      "((1, 1), (2, 2)) [[(0.125+0j), Pauli('III')], [(0.125+0j), Pauli('IIZ')], [(-0.125+0j), Pauli('IZI')], [(-0.125+0j), Pauli('IZZ')], [(0.125+0j), Pauli('ZII')], [(0.125+0j), Pauli('ZIZ')], [(-0.125+0j), Pauli('ZZI')], [(-0.125+0j), Pauli('ZZZ')]]\n",
      "\n",
      "0.0906289573965542\n",
      "((1, 0), (3, 2)) [[0j, Pauli('IIX')], [0j, Pauli('IIY')], [0j, Pauli('IZX')], [0j, Pauli('IZY')], [0j, Pauli('ZIX')], [0j, Pauli('ZIY')], [0j, Pauli('ZZX')], [0j, Pauli('ZZY')], [(0.125+0j), Pauli('XIX')], [0.125j, Pauli('XIY')], [(0.125+0j), Pauli('XZX')], [0.125j, Pauli('XZY')], [-0.125j, Pauli('YIX')], [(0.125+0j), Pauli('YIY')], [-0.125j, Pauli('YZX')], [(0.125+0j), Pauli('YZY')]]\n",
      "\n",
      "0.09062895739655424\n",
      "((1, 0), (2, 3)) [[(0.125+0j), Pauli('IIX')], [0.125j, Pauli('IIY')], [(-0.125+0j), Pauli('IZX')], [-0.125j, Pauli('IZY')], [(0.125+0j), Pauli('ZIX')], [0.125j, Pauli('ZIY')], [(-0.125+0j), Pauli('ZZX')], [-0.125j, Pauli('ZZY')], [0j, Pauli('XIX')], [0j, Pauli('XIY')], [0j, Pauli('XZX')], [0j, Pauli('XZY')], [0j, Pauli('YIX')], [0j, Pauli('YIY')], [0j, Pauli('YZX')], [0j, Pauli('YZY')]]\n",
      "\n",
      "0.348747673340091\n",
      "((1, 1), (3, 3)) [[(0.125+0j), Pauli('III')], [(0.125+0j), Pauli('IIZ')], [(0.125+0j), Pauli('IZI')], [(0.125+0j), Pauli('IZZ')], [(-0.125+0j), Pauli('ZII')], [(-0.125+0j), Pauli('ZIZ')], [(-0.125+0j), Pauli('ZZI')], [(-0.125+0j), Pauli('ZZZ')]]\n",
      "\n",
      "0.33729704216168466\n",
      "((2, 2), (0, 0)) [[(0.125+0j), Pauli('III')], [(-0.125+0j), Pauli('IIZ')], [(0.125+0j), Pauli('IZI')], [(-0.125+0j), Pauli('IZZ')], [(0.125+0j), Pauli('ZII')], [(-0.125+0j), Pauli('ZIZ')], [(0.125+0j), Pauli('ZZI')], [(-0.125+0j), Pauli('ZZZ')]]\n",
      "\n",
      "0.09062895739655422\n",
      "((2, 3), (1, 0)) [[(0.125+0j), Pauli('IIX')], [0.125j, Pauli('IIY')], [(-0.125+0j), Pauli('IZX')], [-0.125j, Pauli('IZY')], [(0.125+0j), Pauli('ZIX')], [0.125j, Pauli('ZIY')], [(-0.125+0j), Pauli('ZZX')], [-0.125j, Pauli('ZZY')], [0j, Pauli('XIX')], [0j, Pauli('XIY')], [0j, Pauli('XZX')], [0j, Pauli('XZY')], [0j, Pauli('YIX')], [0j, Pauli('YIY')], [0j, Pauli('YZX')], [0j, Pauli('YZY')]]\n",
      "\n",
      "0.09062895739655424\n",
      "((2, 3), (0, 1)) [[0j, Pauli('IIX')], [0j, Pauli('IIY')], [0j, Pauli('IZX')], [0j, Pauli('IZY')], [0j, Pauli('ZIX')], [0j, Pauli('ZIY')], [0j, Pauli('ZZX')], [0j, Pauli('ZZY')], [(0.125+0j), Pauli('XIX')], [-0.125j, Pauli('XIY')], [(0.125+0j), Pauli('XZX')], [-0.125j, Pauli('XZY')], [0.125j, Pauli('YIX')], [(0.125+0j), Pauli('YIY')], [0.125j, Pauli('YZX')], [(0.125+0j), Pauli('YZY')]]\n",
      "\n",
      "0.33178199561027416\n",
      "((2, 2), (1, 1)) [[(0.125+0j), Pauli('III')], [(0.125+0j), Pauli('IIZ')], [(-0.125+0j), Pauli('IZI')], [(-0.125+0j), Pauli('IZZ')], [(0.125+0j), Pauli('ZII')], [(0.125+0j), Pauli('ZIZ')], [(-0.125+0j), Pauli('ZZI')], [(-0.125+0j), Pauli('ZZZ')]]\n",
      "\n",
      "0.33729704216168466\n",
      "((2, 2), (2, 2)) [[(0.375+0j), Pauli('III')], [(-0.125+0j), Pauli('IIZ')], [(0.125+0j), Pauli('IZI')], [(-0.375+0j), Pauli('IZZ')], [(0.125+0j), Pauli('ZII')], [(0.125+0j), Pauli('ZIZ')], [(-0.125+0j), Pauli('ZZI')], [(-0.125+0j), Pauli('ZZZ')]]\n",
      "\n",
      "0.09062895739655422\n",
      "((2, 3), (3, 2)) [[(0.25+0j), Pauli('III')], [0j, Pauli('IIZ')], [0j, Pauli('IZI')], [(-0.25+0j), Pauli('IZZ')], [(0.25+0j), Pauli('ZII')], [0j, Pauli('ZIZ')], [0j, Pauli('ZZI')], [(-0.25+0j), Pauli('ZZZ')], [0j, Pauli('XII')], [0j, Pauli('XIZ')], [0j, Pauli('XZI')], [0j, Pauli('XZZ')], [0j, Pauli('YII')], [0j, Pauli('YIZ')], [0j, Pauli('YZI')], [0j, Pauli('YZZ')]]\n",
      "\n",
      "0.09062895739655424\n",
      "((2, 3), (2, 3)) [[0j, Pauli('III')], [0j, Pauli('IIZ')], [0j, Pauli('IZI')], [0j, Pauli('IZZ')], [0j, Pauli('ZII')], [0j, Pauli('ZIZ')], [0j, Pauli('ZZI')], [0j, Pauli('ZZZ')], [0j, Pauli('XII')], [0j, Pauli('XIZ')], [0j, Pauli('XZI')], [0j, Pauli('XZZ')], [0j, Pauli('YII')], [0j, Pauli('YIZ')], [0j, Pauli('YZI')], [0j, Pauli('YZZ')]]\n",
      "\n",
      "0.33178199561027416\n",
      "((2, 2), (3, 3)) [[(0.125+0j), Pauli('III')], [(-0.125+0j), Pauli('IIZ')], [(0.125+0j), Pauli('IZI')], [(-0.125+0j), Pauli('IZZ')], [(-0.125+0j), Pauli('ZII')], [(0.125+0j), Pauli('ZIZ')], [(-0.125+0j), Pauli('ZZI')], [(0.125+0j), Pauli('ZZZ')]]\n",
      "\n",
      "0.3317819956102742\n",
      "((3, 3), (0, 0)) [[(0.125+0j), Pauli('III')], [(-0.125+0j), Pauli('IIZ')], [(-0.125+0j), Pauli('IZI')], [(0.125+0j), Pauli('IZZ')], [(0.125+0j), Pauli('ZII')], [(-0.125+0j), Pauli('ZIZ')], [(-0.125+0j), Pauli('ZZI')], [(0.125+0j), Pauli('ZZZ')]]\n",
      "\n",
      "0.0906289573965542\n",
      "((3, 2), (1, 0)) [[0j, Pauli('IIX')], [0j, Pauli('IIY')], [0j, Pauli('IZX')], [0j, Pauli('IZY')], [0j, Pauli('ZIX')], [0j, Pauli('ZIY')], [0j, Pauli('ZZX')], [0j, Pauli('ZZY')], [(0.125+0j), Pauli('XIX')], [0.125j, Pauli('XIY')], [(0.125+0j), Pauli('XZX')], [0.125j, Pauli('XZY')], [-0.125j, Pauli('YIX')], [(0.125+0j), Pauli('YIY')], [-0.125j, Pauli('YZX')], [(0.125+0j), Pauli('YZY')]]\n",
      "\n",
      "0.09062895739655424\n",
      "((3, 2), (0, 1)) [[(0.125+0j), Pauli('IIX')], [-0.125j, Pauli('IIY')], [(-0.125+0j), Pauli('IZX')], [0.125j, Pauli('IZY')], [(0.125+0j), Pauli('ZIX')], [-0.125j, Pauli('ZIY')], [(-0.125+0j), Pauli('ZZX')], [0.125j, Pauli('ZZY')], [0j, Pauli('XIX')], [0j, Pauli('XIY')], [0j, Pauli('XZX')], [0j, Pauli('XZY')], [0j, Pauli('YIX')], [0j, Pauli('YIY')], [0j, Pauli('YZX')], [0j, Pauli('YZY')]]\n",
      "\n",
      "0.348747673340091\n",
      "((3, 3), (1, 1)) [[(0.125+0j), Pauli('III')], [(0.125+0j), Pauli('IIZ')], [(0.125+0j), Pauli('IZI')], [(0.125+0j), Pauli('IZZ')], [(-0.125+0j), Pauli('ZII')], [(-0.125+0j), Pauli('ZIZ')], [(-0.125+0j), Pauli('ZZI')], [(-0.125+0j), Pauli('ZZZ')]]\n",
      "\n",
      "0.3317819956102742\n",
      "((3, 3), (2, 2)) [[(0.125+0j), Pauli('III')], [(-0.125+0j), Pauli('IIZ')], [(0.125+0j), Pauli('IZI')], [(-0.125+0j), Pauli('IZZ')], [(-0.125+0j), Pauli('ZII')], [(0.125+0j), Pauli('ZIZ')], [(-0.125+0j), Pauli('ZZI')], [(0.125+0j), Pauli('ZZZ')]]\n",
      "\n",
      "0.0906289573965542\n",
      "((3, 2), (3, 2)) [[0j, Pauli('III')], [0j, Pauli('IIZ')], [0j, Pauli('IZI')], [0j, Pauli('IZZ')], [0j, Pauli('ZII')], [0j, Pauli('ZIZ')], [0j, Pauli('ZZI')], [0j, Pauli('ZZZ')], [0j, Pauli('XII')], [0j, Pauli('XIZ')], [0j, Pauli('XZI')], [0j, Pauli('XZZ')], [0j, Pauli('YII')], [0j, Pauli('YIZ')], [0j, Pauli('YZI')], [0j, Pauli('YZZ')]]\n",
      "\n",
      "0.09062895739655424\n",
      "((3, 2), (2, 3)) [[(0.25+0j), Pauli('III')], [0j, Pauli('IIZ')], [0j, Pauli('IZI')], [(0.25+0j), Pauli('IZZ')], [0j, Pauli('ZII')], [(-0.25+0j), Pauli('ZIZ')], [(-0.25+0j), Pauli('ZZI')], [0j, Pauli('ZZZ')], [0j, Pauli('XII')], [0j, Pauli('XIZ')], [0j, Pauli('XZI')], [0j, Pauli('XZZ')], [0j, Pauli('YII')], [0j, Pauli('YIZ')], [0j, Pauli('YZI')], [0j, Pauli('YZZ')]]\n",
      "\n"
     ]
    },
    {
     "name": "stdout",
     "output_type": "stream",
     "text": [
      "0.348747673340091\n",
      "((3, 3), (3, 3)) [[(0.375+0j), Pauli('III')], [(-0.125+0j), Pauli('IIZ')], [(0.125+0j), Pauli('IZI')], [(0.125+0j), Pauli('IZZ')], [(-0.125+0j), Pauli('ZII')], [(-0.125+0j), Pauli('ZIZ')], [(-0.375+0j), Pauli('ZZI')], [(0.125+0j), Pauli('ZZZ')]]\n",
      "\n"
     ]
    }
   ],
   "source": [
    "from groupedFermionicOperator import groupedFermionicOperator\n",
    "\n",
    "g = groupedFermionicOperator(ferOp, num_electrons,mode=\"uhf\")\n",
    "qubitOp = g.to_paulis()"
   ]
  },
  {
   "cell_type": "code",
   "execution_count": 17,
   "metadata": {},
   "outputs": [
    {
     "data": {
      "text/plain": [
       "<qiskit.aqua.operators.legacy.weighted_pauli_operator.WeightedPauliOperator at 0x7fbe418e2640>"
      ]
     },
     "execution_count": 17,
     "metadata": {},
     "output_type": "execute_result"
    }
   ],
   "source": [
    "qubitOp"
   ]
  },
  {
   "cell_type": "code",
   "execution_count": 18,
   "metadata": {},
   "outputs": [
    {
     "data": {
      "text/plain": [
       "{'paulis': [{'label': 'III',\n",
       "   'coeff': {'real': -0.8383208251201104, 'imag': 0.0}},\n",
       "  {'label': 'IIZ', 'coeff': {'real': 0.19716134840999316, 'imag': 0.0}},\n",
       "  {'label': 'IZI', 'coeff': {'real': -0.3059031401253504, 'imag': 0.0}},\n",
       "  {'label': 'IZZ', 'coeff': {'real': 0.19716134840999314, 'imag': 0.0}},\n",
       "  {'label': 'ZII', 'coeff': {'real': -0.46337019090737325, 'imag': 0.0}},\n",
       "  {'label': 'ZIZ', 'coeff': {'real': -0.05093465976858392, 'imag': 0.0}},\n",
       "  {'label': 'ZZI', 'coeff': {'real': 0.06904749408738717, 'imag': 0.0}},\n",
       "  {'label': 'ZZZ', 'coeff': {'real': -0.05093465976858394, 'imag': 0.0}},\n",
       "  {'label': 'IIX', 'coeff': {'real': 0.04531447869827711, 'imag': 0.0}},\n",
       "  {'label': 'IZX', 'coeff': {'real': -0.04531447869827711, 'imag': 0.0}},\n",
       "  {'label': 'ZIX', 'coeff': {'real': 0.04531447869827711, 'imag': 0.0}},\n",
       "  {'label': 'ZZX', 'coeff': {'real': -0.04531447869827711, 'imag': 0.0}},\n",
       "  {'label': 'XIX', 'coeff': {'real': 0.04531447869827711, 'imag': 0.0}},\n",
       "  {'label': 'XZX', 'coeff': {'real': 0.04531447869827711, 'imag': 0.0}},\n",
       "  {'label': 'YIY', 'coeff': {'real': 0.04531447869827711, 'imag': 0.0}},\n",
       "  {'label': 'YZY', 'coeff': {'real': 0.04531447869827711, 'imag': 0.0}}]}"
      ]
     },
     "execution_count": 18,
     "metadata": {},
     "output_type": "execute_result"
    }
   ],
   "source": [
    "qubitOp.to_dict()"
   ]
  },
  {
   "cell_type": "code",
   "execution_count": 19,
   "metadata": {},
   "outputs": [],
   "source": [
    "dict = {'paulis': [{\"coeff\": {\"imag\": 0.00, \"real\": 999 }, \"label\": \"III\" }]}\n",
    "b = WeightedPauliOperator.from_dict(dict)"
   ]
  },
  {
   "cell_type": "code",
   "execution_count": 20,
   "metadata": {},
   "outputs": [
    {
     "data": {
      "text/plain": [
       "<qiskit.aqua.operators.legacy.weighted_pauli_operator.WeightedPauliOperator at 0x7fbe418e2640>"
      ]
     },
     "execution_count": 20,
     "metadata": {},
     "output_type": "execute_result"
    }
   ],
   "source": [
    "qubitOp.add(b)"
   ]
  },
  {
   "cell_type": "code",
   "execution_count": 22,
   "metadata": {},
   "outputs": [
    {
     "data": {
      "text/plain": [
       "{'paulis': [{'label': 'III',\n",
       "   'coeff': {'real': 998.1616791748799, 'imag': 0.0}},\n",
       "  {'label': 'IIZ', 'coeff': {'real': 0.19716134840999316, 'imag': 0.0}},\n",
       "  {'label': 'IZI', 'coeff': {'real': -0.3059031401253504, 'imag': 0.0}},\n",
       "  {'label': 'IZZ', 'coeff': {'real': 0.19716134840999314, 'imag': 0.0}},\n",
       "  {'label': 'ZII', 'coeff': {'real': -0.46337019090737325, 'imag': 0.0}},\n",
       "  {'label': 'ZIZ', 'coeff': {'real': -0.05093465976858392, 'imag': 0.0}},\n",
       "  {'label': 'ZZI', 'coeff': {'real': 0.06904749408738717, 'imag': 0.0}},\n",
       "  {'label': 'ZZZ', 'coeff': {'real': -0.05093465976858394, 'imag': 0.0}},\n",
       "  {'label': 'IIX', 'coeff': {'real': 0.04531447869827711, 'imag': 0.0}},\n",
       "  {'label': 'IZX', 'coeff': {'real': -0.04531447869827711, 'imag': 0.0}},\n",
       "  {'label': 'ZIX', 'coeff': {'real': 0.04531447869827711, 'imag': 0.0}},\n",
       "  {'label': 'ZZX', 'coeff': {'real': -0.04531447869827711, 'imag': 0.0}},\n",
       "  {'label': 'XIX', 'coeff': {'real': 0.04531447869827711, 'imag': 0.0}},\n",
       "  {'label': 'XZX', 'coeff': {'real': 0.04531447869827711, 'imag': 0.0}},\n",
       "  {'label': 'YIY', 'coeff': {'real': 0.04531447869827711, 'imag': 0.0}},\n",
       "  {'label': 'YZY', 'coeff': {'real': 0.04531447869827711, 'imag': 0.0}}]}"
      ]
     },
     "execution_count": 22,
     "metadata": {},
     "output_type": "execute_result"
    }
   ],
   "source": [
    "qubitOp.to_dict()"
   ]
  },
  {
   "cell_type": "code",
   "execution_count": 8,
   "metadata": {},
   "outputs": [
    {
     "data": {
      "text/plain": [
       "0.7142857142857143"
      ]
     },
     "execution_count": 8,
     "metadata": {},
     "output_type": "execute_result"
    }
   ],
   "source": [
    "repulsion_energy = molecule.nuclear_repulsion_energy\n",
    "repulsion_energy"
   ]
  },
  {
   "cell_type": "code",
   "execution_count": 9,
   "metadata": {},
   "outputs": [
    {
     "name": "stdout",
     "output_type": "stream",
     "text": [
      "-1.1372759436170456\n",
      "-1.1372759436170452\n"
     ]
    }
   ],
   "source": [
    "from qiskit.aqua.algorithms import NumPyEigensolver\n",
    "result_exact = NumPyEigensolver(qubitOp).run()\n",
    "energy_exact = (np.real(result_exact.eigenvalues))[0]\n",
    "print(energy_exact+repulsion_energy)\n",
    "\n",
    "qubitOpJW = ferOp.mapping(map_type='jordan_wigner', threshold=1e-6)\n",
    "result_exactJW = NumPyEigensolver(qubitOpJW).run()\n",
    "energy_exactJW = (np.real(result_exactJW.eigenvalues))[0]\n",
    "print(energy_exactJW+repulsion_energy)"
   ]
  }
 ],
 "metadata": {
  "kernelspec": {
   "display_name": "Python 3",
   "language": "python",
   "name": "python3"
  },
  "language_info": {
   "codemirror_mode": {
    "name": "ipython",
    "version": 3
   },
   "file_extension": ".py",
   "mimetype": "text/x-python",
   "name": "python",
   "nbconvert_exporter": "python",
   "pygments_lexer": "ipython3",
   "version": "3.8.5"
  }
 },
 "nbformat": 4,
 "nbformat_minor": 4
}
