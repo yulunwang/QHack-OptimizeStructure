{
 "cells": [
  {
   "cell_type": "code",
   "execution_count": 1,
   "metadata": {},
   "outputs": [],
   "source": [
    "from pennylane import qchem\n",
    "import pennylane as qml\n",
    "\n",
    "from pennylane import numpy as np\n",
    "from openfermion import MolecularData\n",
    "from openfermion.transforms import get_fermion_operator\n",
    "from openfermion.ops import QubitOperator\n",
    "import math\n",
    "from itertools import combinations, product"
   ]
  },
  {
   "cell_type": "code",
   "execution_count": 2,
   "metadata": {},
   "outputs": [],
   "source": [
    "def binom(n, k):\n",
    "    return math.factorial(n) // math.factorial(k) // math.factorial(n - k)    \n",
    "\n",
    "def append_to_dic(key,value,dic):\n",
    "    if key in dic.keys():\n",
    "        dic[key] += value\n",
    "    else:\n",
    "        dic[key] = value\n",
    "\n",
    "def get_pauli(a,b):\n",
    "    a = int(a)\n",
    "    b = int(b)\n",
    "    if a==0 and b==0:\n",
    "        return [0,3] #|0><0|=1/2(I+Z)\n",
    "    elif a==0 and b==1:\n",
    "        return [1,2] #|0><1|=1/2(X+iY)\n",
    "    elif a==1 and b==0:\n",
    "        return [1,-2] #|1><0|=1/2(X-iY)\n",
    "    elif a==1 and b==1:\n",
    "        return [0,-3] #|1><1|=1/2(I-Z)\n",
    "\n",
    "def get_h(term,h):\n",
    "    xb = np.binary_repr(term[0],width=noq)\n",
    "    yb = np.binary_repr(term[1],width=noq)\n",
    "    tensor_list =[]\n",
    "    # [p0,p1,...] get Pauli gates pi for each qubit i. \n",
    "    #pi is a list of linear combination of all pauli gates on ith qubit.\n",
    "    for i in range(len(xb)):\n",
    "        tensor_list.append(get_pauli(xb[i],yb[i]))           \n",
    "    # Expand the linear combination. Now each list in terms is a operation on all qubits.\n",
    "    terms = list(product(*tensor_list))\n",
    "    terms = [list(g) for g in terms]\n",
    "    coef = [h/(2**noq)]*len(terms)    \n",
    "    for cnt1,j in enumerate(terms):\n",
    "        for cnt2,k in enumerate(j):\n",
    "            if k==-3:\n",
    "                terms[cnt1][cnt2]=3\n",
    "                coef[cnt1] *= -1\n",
    "            elif k==2:\n",
    "                terms[cnt1][cnt2]=2\n",
    "                coef[cnt1] *= 1j\n",
    "            elif k==-2:\n",
    "                terms[cnt1][cnt2]=2\n",
    "                coef[cnt1] *= -1j               \n",
    "    return terms,coef"
   ]
  },
  {
   "cell_type": "code",
   "execution_count": 3,
   "metadata": {},
   "outputs": [],
   "source": [
    "def FermiOptoQubitOp(fermionic_hamiltonian,num_orbitals, num_electrons):  \n",
    "    \n",
    "    \n",
    "    def convert_data(fermionic_hamiltonian):\n",
    "        keylist = fermionic_hamiltonian.terms.keys()\n",
    "        addlist = []\n",
    "        for k in keylist:\n",
    "            if (len(k)>2):\n",
    "                if (k[1][0] == k[2][0]):\n",
    "                    if ((k[1], k[2]) in fermionic_hamiltonian.terms.keys()):\n",
    "                        l = [k[1], k[2]]\n",
    "                        l = tuple(l)\n",
    "                        fermionic_hamiltonian.terms[l] = fermionic_hamiltonian.terms[l] + fermionic_hamiltonian.terms[k]\n",
    "                    else:\n",
    "                        addlist.append([(k[1], k[2]), fermionic_hamiltonian.terms[k]])\n",
    "\n",
    "                fermionic_hamiltonian.terms[k] = -1*fermionic_hamiltonian.terms[k]\n",
    "        for k in addlist:\n",
    "            fermionic_hamiltonian.terms[k[0]] = k[1]\n",
    "        return fermionic_hamiltonian\n",
    "\n",
    "    def convert_to_list(d):\n",
    "        coeff = []\n",
    "        terms = []\n",
    "        for k in d.keys():\n",
    "            temp = []\n",
    "            for t in k:\n",
    "                temp.append(t[0])\n",
    "            if len(temp)!=4:\n",
    "                terms.append(temp)\n",
    "                coeff.append(d[k])\n",
    "            else:\n",
    "                if (temp[0]!=temp[1]) and (temp[2]!=temp[3]):\n",
    "                    terms.append(temp)\n",
    "                    coeff.append(d[k])\n",
    "        return terms,coeff\n",
    " \n",
    "    def fer_configs(orbitals, electrons):\n",
    "        # output = np.array(list(fer_cofigs(orbitals, electrons)))\n",
    "        for positions in combinations(range(orbitals), electrons):\n",
    "            p = [0] * orbitals\n",
    "            for i in positions:\n",
    "                p[i] = 1\n",
    "            yield p\n",
    "    \n",
    "    def one_elec(term):\n",
    "        a,b = term\n",
    "        k  = [] # before\n",
    "        kp = [] # after\n",
    "        parity=[]\n",
    "        for cnt,conf in enumerate(Fconfigs):\n",
    "            if conf[a]==0 and conf[b]==1:\n",
    "                k.append(cnt)\n",
    "                conf_af = conf.copy()\n",
    "                conf_af[a],conf_af[b]=conf_af[b],conf_af[a]\n",
    "                kp.append(np.where(np.all(Fconfigs==conf_af,axis=1))[0][0]) # find index for corresponded kp\n",
    "                parity.append((np.count_nonzero(conf[a+1:b])%2)*(-2)+1)\n",
    "        return k,kp,parity\n",
    "\n",
    "    def two_elec(term):\n",
    "        a,b,c,d = term\n",
    "        k  = [] # before\n",
    "        kp = [] # after\n",
    "        parity=[]\n",
    "        \n",
    "        # if a,b,c,d are four unique indices\n",
    "        if len(set([a,b,c,d])) == 4:\n",
    "            for cnt,conf in enumerate(Fconfigs):\n",
    "                if conf[a]== 0 and conf[b]==0 and conf[c]== 1 and conf[d]==1:\n",
    "                    k.append(cnt)\n",
    "                    conf_af = conf.copy()\n",
    "                    conf_af[a],conf_af[b],conf_af[c],conf_af[d]=conf_af[c],conf_af[d],conf_af[a],conf_af[b]\n",
    "                    kp.append(np.where(np.all(Fconfigs==conf_af,axis=1))[0][0]) # find index for corresponded kp\n",
    "                    parity.append(((np.count_nonzero(conf[a+1:c])%2)*(-2)+1)*((np.count_nonzero(conf[b+1:d])%2)*(-2)+1))\n",
    "            return k,kp,parity   \n",
    "        elif len(set([a,b,c,d])) == 2:\n",
    "            for cnt,conf in enumerate(Fconfigs):\n",
    "                if conf[a]== conf[d] and conf[c]==conf[d] and conf[a]== 1:\n",
    "                    k.append(cnt)\n",
    "                    kp.append(cnt) # find index for corresponded kp\n",
    "                    parity.append(1)\n",
    "            return k,kp,parity   \n",
    "    \n",
    "    def X(t):\n",
    "        return qml.PauliX(t)\n",
    "    def Y(t):\n",
    "        return qml.PauliY(t)\n",
    "    def Z(t):\n",
    "        return qml.PauliZ(t)\n",
    "    \n",
    "    def get_pauli(n,t):\n",
    "        if n==1:\n",
    "            return X(t)\n",
    "        elif n==2:\n",
    "            return Y(t)\n",
    "        elif n==3:\n",
    "            return Z(t)\n",
    "        \n",
    "    def toPauli(pauli):\n",
    "        for e in range(len(pauli)):\n",
    "            if pauli[e]!=0:\n",
    "                h = get_pauli(pauli[e],e)\n",
    "                break\n",
    "        for f in range(e+1,len(pauli)):\n",
    "            if pauli[f]!=0:\n",
    "                h @= get_pauli(pauli[f],f)\n",
    "        return h\n",
    "    \n",
    "    Fconfigs = np.array(list(fer_configs(num_orbitals, num_electrons)))\n",
    "    Qconfigs={}\n",
    "    \n",
    "    f = convert_data(fermionic_hamiltonian)\n",
    "    terms, coeffs= convert_to_list(f.terms)\n",
    "    for cnt, term in enumerate(terms):\n",
    "        if len(term)==0:\n",
    "            append_to_dic((),coeffs[cnt],Qconfigs)\n",
    "        elif len(term)==2:\n",
    "            k,kp,parity = one_elec(term)\n",
    "            for i,kk in enumerate(k):\n",
    "                append_to_dic((kp[i],k[i]),parity[i]*coeffs[cnt],Qconfigs)\n",
    "        elif len(term)==4:\n",
    "            k,kp,parity = two_elec(term)\n",
    "            for i,kk in enumerate(k):\n",
    "                append_to_dic((kp[i],k[i]),parity[i]*coeffs[cnt],Qconfigs)\n",
    "    \n",
    "    QubitOp = {}\n",
    "    for i,key in enumerate(Qconfigs.keys()):\n",
    "        if len(key)==0:\n",
    "            append_to_dic((),Qconfigs[key],QubitOp)\n",
    "        else:\n",
    "            pauli_list,coeff_list = get_h(key,Qconfigs[key])\n",
    "            for j,p in enumerate(pauli_list):\n",
    "                if all(a == 0 for a in p):\n",
    "                    QubitOp[()] += coeff_list[j]\n",
    "                else:\n",
    "                    append_to_dic(tuple(p),coeff_list[j],QubitOp)    \n",
    "                \n",
    "    QubitOp = {key:val for key, val in QubitOp.items() if val != 0.0}      \n",
    "    \n",
    "    vals = []\n",
    "    obs = []\n",
    "    \n",
    "    for i,key in enumerate(QubitOp.keys()):\n",
    "        if len(key)==0:\n",
    "            obs.append(qml.Identity(0))\n",
    "            vals.append(QubitOp[key])\n",
    "        else:\n",
    "            obs.append(toPauli(key))\n",
    "            vals.append(QubitOp[key])\n",
    "\n",
    "    hamiltonian = qml.Hamiltonian(np.array(vals), obs)       \n",
    "    return hamiltonian"
   ]
  },
  {
   "cell_type": "code",
   "execution_count": 4,
   "metadata": {},
   "outputs": [],
   "source": [
    "symbols = [\"H\", \"H\"]\n",
    "x = np.array([0.986, 1.610,  1.855,0.002], dtype=np.float64) # in Bohr\n",
    "coordinate = np.array([0.0, 0.0, 0.0,x[0], x[1], 0.0], dtype=np.float64) # in Bohr\n",
    "\n",
    "hf_file  = qchem.meanfield(symbols, coordinate,charge=0,mult = 1)\n",
    "molecule = MolecularData(filename=hf_file.strip())\n",
    "core, active = qchem.active_space(molecule.n_electrons, molecule.n_orbitals)\n",
    "terms_molecular_hamiltonian = molecule.get_molecular_hamiltonian(occupied_indices=core, active_indices=active)\n",
    "fermionic_hamiltonian = get_fermion_operator(terms_molecular_hamiltonian)"
   ]
  },
  {
   "cell_type": "code",
   "execution_count": 33,
   "metadata": {},
   "outputs": [],
   "source": [
    "symbols = [\"H\", \"H\", \"H\"]\n",
    "x = np.array([0.986, 1.610,  1.855,0.002], dtype=np.float64) # in Bohr\n",
    "coordinate = np.array([0.0, 0.0, 0.0,x[0], x[1], 0.0, x[2],x[3], 0.0], dtype=np.float64) # in Bohr\n",
    "\n",
    "hf_file  = qchem.meanfield(symbols, coordinate,charge=0,mult = 2)\n",
    "molecule = MolecularData(filename=hf_file.strip())\n",
    "core, active = qchem.active_space(molecule.n_electrons, molecule.n_orbitals)\n",
    "terms_molecular_hamiltonian = molecule.get_molecular_hamiltonian(occupied_indices=core, active_indices=active)\n",
    "fermionic_hamiltonian = get_fermion_operator(terms_molecular_hamiltonian)"
   ]
  },
  {
   "cell_type": "code",
   "execution_count": 5,
   "metadata": {},
   "outputs": [],
   "source": [
    "# input\n",
    "num_electrons = molecule.n_electrons\n",
    "num_orbitals = molecule.n_orbitals*2\n",
    "noq = math.ceil(np.log2(binom(num_orbitals,num_electrons)))"
   ]
  },
  {
   "cell_type": "code",
   "execution_count": 6,
   "metadata": {},
   "outputs": [
    {
     "data": {
      "text/plain": [
       "<Hamiltonian: terms=16, wires=[0, 1, 2]>"
      ]
     },
     "execution_count": 6,
     "metadata": {},
     "output_type": "execute_result"
    }
   ],
   "source": [
    "H = FermiOptoQubitOp(fermionic_hamiltonian,num_orbitals, num_electrons)\n",
    "H"
   ]
  },
  {
   "cell_type": "code",
   "execution_count": 7,
   "metadata": {},
   "outputs": [
    {
     "name": "stdout",
     "output_type": "stream",
     "text": [
      "  ((-0.2091567704152631+0j)) [Z1]\n",
      "+ ((-0.1521304882726378+0j)) [Z0]\n",
      "+ ((-0.04918262704292539+0j)) [X2]\n",
      "+ ((0.0033314707996491694+0j)) [Z2]\n",
      "+ ((0.00959875471651768+0j)) [I0]\n",
      "+ ((-0.04918262704292539+0j)) [Z0 X2]\n",
      "+ (0.04918262704292539j) [X0 Y2]\n",
      "+ (0.04918262704292539j) [Y0 X2]\n",
      "+ ((0.0033314707996491694+0j)) [Z1 Z2]\n",
      "+ ((0.04467044274287475+0j)) [Z0 Z2]\n",
      "+ ((0.04918262704292539+0j)) [Z1 X2]\n",
      "+ ((0.15879342987193618+0j)) [Z0 Z1]\n",
      "+ (0.04918262704292539j) [X0 Z1 Y2]\n",
      "+ (0.04918262704292539j) [Y0 Z1 X2]\n",
      "+ ((0.04467044274287475+0j)) [Z0 Z1 Z2]\n",
      "+ ((0.04918262704292539+0j)) [Z0 Z1 X2]\n"
     ]
    }
   ],
   "source": [
    "print(H)"
   ]
  },
  {
   "cell_type": "code",
   "execution_count": 9,
   "metadata": {},
   "outputs": [],
   "source": [
    "h_qiskit = to_qiskit_hamiltonian(H,3)"
   ]
  },
  {
   "cell_type": "code",
   "execution_count": 10,
   "metadata": {},
   "outputs": [
    {
     "data": {
      "text/plain": [
       "<qiskit.aqua.operators.legacy.weighted_pauli_operator.WeightedPauliOperator at 0x7ff06cae3940>"
      ]
     },
     "execution_count": 10,
     "metadata": {},
     "output_type": "execute_result"
    }
   ],
   "source": [
    "h_qiskit"
   ]
  },
  {
   "cell_type": "code",
   "execution_count": 11,
   "metadata": {},
   "outputs": [
    {
     "name": "stdout",
     "output_type": "stream",
     "text": [
      "-0.2888989011844949\n"
     ]
    }
   ],
   "source": [
    "from qiskit.aqua.algorithms import NumPyEigensolver\n",
    "result_exact = NumPyEigensolver(h_qiskit).run()\n",
    "energy_exact = (np.real(result_exact.eigenvalues))[0]\n",
    "print(energy_exact)\n"
   ]
  },
  {
   "cell_type": "code",
   "execution_count": null,
   "metadata": {},
   "outputs": [],
   "source": []
  },
  {
   "cell_type": "code",
   "execution_count": null,
   "metadata": {},
   "outputs": [],
   "source": []
  },
  {
   "cell_type": "code",
   "execution_count": null,
   "metadata": {},
   "outputs": [],
   "source": []
  },
  {
   "cell_type": "code",
   "execution_count": null,
   "metadata": {},
   "outputs": [],
   "source": []
  },
  {
   "cell_type": "code",
   "execution_count": 105,
   "metadata": {},
   "outputs": [
    {
     "ename": "ModuleNotFoundError",
     "evalue": "No module named 'qiskit.aqua'",
     "output_type": "error",
     "traceback": [
      "\u001b[0;31m---------------------------------------------------------------------------\u001b[0m",
      "\u001b[0;31mModuleNotFoundError\u001b[0m                       Traceback (most recent call last)",
      "\u001b[0;32m<ipython-input-105-1744e72e3227>\u001b[0m in \u001b[0;36m<module>\u001b[0;34m\u001b[0m\n\u001b[0;32m----> 1\u001b[0;31m \u001b[0;32mfrom\u001b[0m \u001b[0mqiskit\u001b[0m\u001b[0;34m.\u001b[0m\u001b[0maqua\u001b[0m\u001b[0;34m.\u001b[0m\u001b[0moperators\u001b[0m \u001b[0;32mimport\u001b[0m \u001b[0mWeightedPauliOperator\u001b[0m\u001b[0;34m\u001b[0m\u001b[0;34m\u001b[0m\u001b[0m\n\u001b[0m",
      "\u001b[0;31mModuleNotFoundError\u001b[0m: No module named 'qiskit.aqua'"
     ]
    }
   ],
   "source": [
    "from qiskit.aqua.operators import WeightedPauliOperator"
   ]
  },
  {
   "cell_type": "code",
   "execution_count": null,
   "metadata": {},
   "outputs": [],
   "source": []
  },
  {
   "cell_type": "code",
   "execution_count": null,
   "metadata": {},
   "outputs": [],
   "source": []
  },
  {
   "cell_type": "code",
   "execution_count": 8,
   "metadata": {},
   "outputs": [],
   "source": [
    "def to_qiskit_hamiltonian(hamiltonian, noq=None):\n",
    "    \"\"\"\n",
    "    \n",
    "    Input: \n",
    "        Pennylane Hamiltonan: hamiltonian\n",
    "        Number of qubits: noq\n",
    "    \n",
    "    Return: \n",
    "        QISKit Hamiltonian: qubit_op \n",
    "    \n",
    "    \"\"\"\n",
    "    \n",
    "    from pennylane.operation import Observable, Tensor\n",
    "    from qiskit.aqua.operators import WeightedPauliOperator\n",
    "    \n",
    "    OBS_MAP = {\"PauliX\": \"X\", \"PauliY\": \"Y\", \"PauliZ\": \"Z\", \"Hadamard\": \"H\", \"Identity\": \"I\"}\n",
    "    pauli_dict= {\"paulis\": []}\n",
    "    \n",
    "    if len(hamiltonian.coeffs) != len(hamiltonian.ops):\n",
    "        raise ValueError(\"Could not create valid Hamiltonian; \"\n",
    "                \"number of coefficients and operators does not match.\")\n",
    "\n",
    "    for obs in hamiltonian.ops:\n",
    "        if not isinstance(obs, Observable):\n",
    "            raise ValueError(\"Could not create circuits. Some or all observables are not valid.\")             \n",
    "                \n",
    "    for i, obs in enumerate(hamiltonian.ops):\n",
    "        if isinstance(obs, Tensor):\n",
    "            pauli_term = [\"I\"] * noq\n",
    "            for j in obs.obs:\n",
    "                pauli_term[j.wires[0]] = OBS_MAP[j.name]\n",
    "        \n",
    "        elif isinstance(obs, Observable):\n",
    "            pauli_term = [\"I\"] * noq\n",
    "            pauli_term[obs.wires[0]] = OBS_MAP[obs.name]\n",
    "            \n",
    "        term = \"\".join(pauli_term)\n",
    "        op = {\"label\": term}\n",
    "        \n",
    "        op[\"coeff\"] = {\"real\": np.real(hamiltonian.coeffs[i]),\"imag\": np.imag(hamiltonian.coeffs[i])}\n",
    "             \n",
    "        pauli_dict[\"paulis\"].append(op)\n",
    "        \n",
    "    qubit_op = WeightedPauliOperator.from_dict(pauli_dict)\n",
    "    \n",
    "    return qubit_op"
   ]
  },
  {
   "cell_type": "code",
   "execution_count": null,
   "metadata": {},
   "outputs": [],
   "source": []
  },
  {
   "cell_type": "code",
   "execution_count": null,
   "metadata": {},
   "outputs": [],
   "source": []
  },
  {
   "cell_type": "code",
   "execution_count": 14,
   "metadata": {},
   "outputs": [
    {
     "ename": "NameError",
     "evalue": "name 'two_elec' is not defined",
     "output_type": "error",
     "traceback": [
      "\u001b[0;31m---------------------------------------------------------------------------\u001b[0m",
      "\u001b[0;31mNameError\u001b[0m                                 Traceback (most recent call last)",
      "\u001b[0;32m<ipython-input-14-e39c13fe2e4b>\u001b[0m in \u001b[0;36m<module>\u001b[0;34m\u001b[0m\n\u001b[0;32m----> 1\u001b[0;31m \u001b[0mtwo_elec\u001b[0m\u001b[0;34m(\u001b[0m\u001b[0;34m[\u001b[0m\u001b[0;36m0\u001b[0m\u001b[0;34m,\u001b[0m\u001b[0;36m0\u001b[0m\u001b[0;34m,\u001b[0m\u001b[0;36m2\u001b[0m\u001b[0;34m,\u001b[0m\u001b[0;36m4\u001b[0m\u001b[0;34m]\u001b[0m\u001b[0;34m)\u001b[0m\u001b[0;34m\u001b[0m\u001b[0;34m\u001b[0m\u001b[0m\n\u001b[0m",
      "\u001b[0;31mNameError\u001b[0m: name 'two_elec' is not defined"
     ]
    }
   ],
   "source": []
  }
 ],
 "metadata": {
  "kernelspec": {
   "display_name": "Python 3",
   "language": "python",
   "name": "python3"
  },
  "language_info": {
   "codemirror_mode": {
    "name": "ipython",
    "version": 3
   },
   "file_extension": ".py",
   "mimetype": "text/x-python",
   "name": "python",
   "nbconvert_exporter": "python",
   "pygments_lexer": "ipython3",
   "version": "3.8.5"
  }
 },
 "nbformat": 4,
 "nbformat_minor": 5
}
